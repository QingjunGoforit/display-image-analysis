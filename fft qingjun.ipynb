{
 "cells": [
  {
   "cell_type": "code",
   "execution_count": null,
   "id": "1e0db24c-1bd1-4690-a036-e4baf4092b55",
   "metadata": {},
   "outputs": [],
   "source": [
    "import numpy as np\n",
    "import matplotlib.pyplot as plt\n",
    "\n",
    "def fft_image(image, shift_back=False):\n",
    "    \n",
    "    #img_float = image.astype(np.float32) / 255.0\n",
    "    img_float=image\n",
    "    \n",
    "    #f = np.fft.fft2(img_float) #mine, centered\n",
    "    f = fftshift(fft2(img_float)) #julian\n",
    "    # magnitude_spectrum = 20 * np.log(np.abs(f) + 1)\n",
    "    magnitude_spectrum = (np.abs(f))**2\n",
    "    return magnitude_spectrum\n",
    "\n",
    "def intensity_vs_radius_curve_rings(magnitude_spectrum, max_radius, ring_width):\n",
    "    # Get the dimensions of the magnitude spectrum\n",
    "    height, width = magnitude_spectrum.shape\n",
    "    #center_y, center_x = height // 2, width // 2  # Center of the image\n",
    "    center_y, center_x = 0, 0  # Center of the image\n",
    "    average_intensity = []\n",
    "    for start_radius in range(0, max_radius, ring_width):\n",
    "        # end_radius = start_radius + ring_width\n",
    "        mask = np.zeros_like(magnitude_spectrum, dtype=bool)\n",
    "        # Y, X = np.ogrid[:height, :width]\n",
    "        #     Process image size information\n",
    "        N, M = magnitude_spectrum.shape\n",
    "        dimMax = max(N, M)\n",
    "        X, Y = np.meshgrid(np.arange(-dimMax / 2, dimMax / 2), np.arange(-dimMax / 2, dimMax / 2))\n",
    "        #checked, these two way only has difference that the second one change the (0,0) to the image center\n",
    "\n",
    "        dist_from_center = np.sqrt((X - center_x)**2 + (Y - center_y)**2)\n",
    "        dist_from_center = np.round(dist_from_center).astype(int)\n",
    "        # mask[(dist_from_center >= start_radius) & (dist_from_center < end_radius)] = True\n",
    "        mask[(dist_from_center == start_radius)]= True\n",
    "        ring_intensity = magnitude_spectrum[mask]\n",
    "        average_intensity.append(np.nanmean(ring_intensity))\n",
    "\n",
    "    return average_intensity\n",
    "\n",
    "max_radius=500\n",
    "ring_width=1\n",
    "# average_intensityG = intensity_vs_radius_curve_rings(fft_image(img_G[4]), max_radius, ring_width)\n",
    "# average_intensityR = intensity_vs_radius_curve_rings(fft_image(img_R[4]), max_radius, ring_width)\n",
    "# average_intensityB = intensity_vs_radius_curve_rings(fft_image(img_B[4]), max_radius, ring_width)\n",
    "\n",
    "average_intensityG = intensity_vs_radius_curve_rings(fft_image(scaled_img_G), max_radius, ring_width)\n",
    "average_intensityR = intensity_vs_radius_curve_rings(fft_image(scaled_img_R), max_radius, ring_width)\n",
    "average_intensityB = intensity_vs_radius_curve_rings(fft_image(scaled_img_B), max_radius, ring_width)"
   ]
  },
  {
   "cell_type": "code",
   "execution_count": 1,
   "id": "3a41953d-5ba8-495c-887b-36549bdb9bd5",
   "metadata": {},
   "outputs": [
    {
     "ename": "NameError",
     "evalue": "name 'np' is not defined",
     "output_type": "error",
     "traceback": [
      "\u001b[0;31m---------------------------------------------------------------------------\u001b[0m",
      "\u001b[0;31mNameError\u001b[0m                                 Traceback (most recent call last)",
      "Cell \u001b[0;32mIn[1], line 1\u001b[0m\n\u001b[0;32m----> 1\u001b[0m radii\u001b[38;5;241m=\u001b[39m\u001b[43mnp\u001b[49m\u001b[38;5;241m.\u001b[39marange(\u001b[38;5;241m0\u001b[39m,\u001b[38;5;241m500\u001b[39m,\u001b[38;5;241m1\u001b[39m)\n\u001b[1;32m      2\u001b[0m max_log_value \u001b[38;5;241m=\u001b[39m \u001b[38;5;28mmax\u001b[39m(np\u001b[38;5;241m.\u001b[39mlog(\u001b[38;5;28mmax\u001b[39m(average_intensityR[\u001b[38;5;241m200\u001b[39m:\u001b[38;5;241m350\u001b[39m]) \u001b[38;5;241m+\u001b[39m \u001b[38;5;241m1\u001b[39m), np\u001b[38;5;241m.\u001b[39mlog(\u001b[38;5;28mmax\u001b[39m(average_intensityG[\u001b[38;5;241m200\u001b[39m:\u001b[38;5;241m350\u001b[39m]) \u001b[38;5;241m+\u001b[39m \u001b[38;5;241m1\u001b[39m), np\u001b[38;5;241m.\u001b[39mlog(\u001b[38;5;28mmax\u001b[39m(average_intensityB[\u001b[38;5;241m200\u001b[39m:\u001b[38;5;241m350\u001b[39m]) \u001b[38;5;241m+\u001b[39m \u001b[38;5;241m1\u001b[39m))\n\u001b[1;32m      4\u001b[0m \u001b[38;5;66;03m#normalized using 300 peak\u001b[39;00m\n",
      "\u001b[0;31mNameError\u001b[0m: name 'np' is not defined"
     ]
    }
   ],
   "source": [
    "radii=np.arange(0,500,1)\n",
    "max_log_value = max(np.log(max(average_intensityR[200:350]) + 1), np.log(max(average_intensityG[200:350]) + 1), np.log(max(average_intensityB[200:350]) + 1))\n",
    "\n",
    "#normalized using 300 peak\n",
    "plt.plot(radii, np.log(average_intensityR ) * max_log_value/np.log(max(average_intensityR[200:350])+1), label='Red Intensity', color='Red')\n",
    "plt.plot([x+0 for x in radii], np.log(average_intensityG ) * max_log_value/np.log(max(average_intensityG[200:350])+1) , label='Green Intensity', color='green')\n",
    "plt.plot([x+0 for x in radii], np.log(average_intensityB ) * max_log_value/np.log(max(average_intensityB[200:350])+1) , label='Blue Intensity', color='blue')\n",
    "\n",
    "#normalized by image intensity to the same\n",
    "# plt.plot(radii, np.log(average_intensityR ) , label='Red Intensity', color='Red')\n",
    "# plt.plot([x+0 for x in radii], np.log(average_intensityG )  , label='Green Intensity', color='green')\n",
    "# plt.plot([x+0 for x in radii], np.log(average_intensityB )  , label='Blue Intensity', color='blue')\n",
    "\n",
    "\n",
    "#plt.axvline(x=290, color='black', linestyle='--', label='x=300')\n",
    "plt.xlabel('Radius')\n",
    "plt.ylabel('Scaled Average Intensity')\n",
    "plt.xlim(0.1,500)\n",
    "#plt.ylim(0,10)\n",
    "plt.title('Scaled Average Intensity vs. Radius for RGB Channels')\n",
    "plt.legend()\n",
    "# Show the plot\n",
    "plt.show()"
   ]
  },
  {
   "cell_type": "code",
   "execution_count": null,
   "id": "ec8452e8-ebdc-4eaa-a3d6-60ecc90bbf30",
   "metadata": {},
   "outputs": [],
   "source": []
  }
 ],
 "metadata": {
  "kernelspec": {
   "display_name": "Python 3 (ipykernel)",
   "language": "python",
   "name": "python3"
  },
  "language_info": {
   "codemirror_mode": {
    "name": "ipython",
    "version": 3
   },
   "file_extension": ".py",
   "mimetype": "text/x-python",
   "name": "python",
   "nbconvert_exporter": "python",
   "pygments_lexer": "ipython3",
   "version": "3.9.6"
  }
 },
 "nbformat": 4,
 "nbformat_minor": 5
}
