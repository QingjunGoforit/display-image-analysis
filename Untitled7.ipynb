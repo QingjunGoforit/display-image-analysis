{
 "cells": [
  {
   "cell_type": "code",
   "execution_count": 1,
   "id": "0b72746c-28dc-4368-98c5-8ea357a7b1eb",
   "metadata": {},
   "outputs": [
    {
     "name": "stdout",
     "output_type": "stream",
     "text": [
      "Defaulting to user installation because normal site-packages is not writeable\n",
      "Requirement already satisfied: pillow in /Users/qingjunwang/Library/Python/3.9/lib/python/site-packages (10.3.0)\n",
      "Requirement already satisfied: numpy in /Users/qingjunwang/Library/Python/3.9/lib/python/site-packages (1.26.4)\n",
      "\n",
      "\u001b[1m[\u001b[0m\u001b[34;49mnotice\u001b[0m\u001b[1;39;49m]\u001b[0m\u001b[39;49m A new release of pip is available: \u001b[0m\u001b[31;49m24.0\u001b[0m\u001b[39;49m -> \u001b[0m\u001b[32;49m24.2\u001b[0m\n",
      "\u001b[1m[\u001b[0m\u001b[34;49mnotice\u001b[0m\u001b[1;39;49m]\u001b[0m\u001b[39;49m To update, run: \u001b[0m\u001b[32;49m/Library/Developer/CommandLineTools/usr/bin/python3 -m pip install --upgrade pip\u001b[0m\n",
      "Note: you may need to restart the kernel to use updated packages.\n"
     ]
    }
   ],
   "source": [
    "pip install pillow numpy"
   ]
  },
  {
   "cell_type": "code",
   "execution_count": null,
   "id": "8aa1316a-e252-4d98-8638-a804fc5a0b3c",
   "metadata": {},
   "outputs": [
    {
     "name": "stderr",
     "output_type": "stream",
     "text": [
      "2024-08-09 11:48:04.590 Python[6867:7162715] WARNING: Secure coding is automatically enabled for restorable state! However, not on all supported macOS versions of this application. Opt-in to secure coding explicitly by implementing NSApplicationDelegate.applicationSupportsSecureRestorableState:.\n"
     ]
    }
   ],
   "source": [
    "import tkinter as tk\n",
    "from tkinter import filedialog\n",
    "from PIL import Image\n",
    "import numpy as np\n",
    "\n",
    "def upload_file():\n",
    "    global filepath\n",
    "    filepath = filedialog.askopenfilename(filetypes=[(\"Image files\", \"*.jpg *.jpeg *.png\")])\n",
    "    if filepath:\n",
    "        label_file.config(text=\"File Loaded: \" + filepath.split(\"/\")[-1])\n",
    "    else:\n",
    "        label_file.config(text=\"No file selected\")\n",
    "\n",
    "def calculate_contrast():\n",
    "    if not filepath:\n",
    "        label_result.config(text=\"Please upload an image file first.\")\n",
    "        return\n",
    "    \n",
    "    # Load the image\n",
    "    image = Image.open(filepath).convert('L')  # Convert image to grayscale\n",
    "    image_array = np.array(image)\n",
    "    \n",
    "    # Calculate std/mean\n",
    "    std_dev = np.std(image_array)\n",
    "    mean_val = np.mean(image_array)\n",
    "    contrast = std_dev / mean_val if mean_val != 0 else 0\n",
    "    \n",
    "    # Display the result\n",
    "    label_result.config(text=f\"Contrast (std/mean): {contrast:.4f}\")\n",
    "\n",
    "# Set up the main window\n",
    "root = tk.Tk()\n",
    "root.title(\"Image Contrast Calculator\")\n",
    "root.geometry(\"500x200\")\n",
    "\n",
    "# Widgets\n",
    "button_upload = tk.Button(root, text=\"Upload Image\", command=upload_file)\n",
    "button_upload.pack(pady=10)\n",
    "\n",
    "label_file = tk.Label(root, text=\"No file selected\")\n",
    "label_file.pack(pady=10)\n",
    "\n",
    "button_calculate = tk.Button(root, text=\"Calculate Contrast\", command=calculate_contrast)\n",
    "button_calculate.pack(pady=10)\n",
    "\n",
    "label_result = tk.Label(root, text=\"Result will be shown here\")\n",
    "label_result.pack(pady=10)\n",
    "\n",
    "# Start the GUI\n",
    "root.mainloop()"
   ]
  },
  {
   "cell_type": "code",
   "execution_count": null,
   "id": "1d519dfd-6a9e-4e38-a933-288acbef9c17",
   "metadata": {},
   "outputs": [],
   "source": []
  }
 ],
 "metadata": {
  "kernelspec": {
   "display_name": "Python 3 (ipykernel)",
   "language": "python",
   "name": "python3"
  },
  "language_info": {
   "codemirror_mode": {
    "name": "ipython",
    "version": 3
   },
   "file_extension": ".py",
   "mimetype": "text/x-python",
   "name": "python",
   "nbconvert_exporter": "python",
   "pygments_lexer": "ipython3",
   "version": "3.9.6"
  }
 },
 "nbformat": 4,
 "nbformat_minor": 5
}
