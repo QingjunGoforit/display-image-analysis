{
 "cells": [
  {
   "cell_type": "code",
   "execution_count": 7,
   "id": "c3924442-368d-41a8-a8fd-2f6217f4c158",
   "metadata": {},
   "outputs": [
    {
     "name": "stdout",
     "output_type": "stream",
     "text": [
      "Filename: EPIC_FL2_D12C5_YSSI-P20-rSD_Blue_70mA_25degrees_X0.000_Y0.000_Z0.000_Exp20000.png, Mean: 30.13, Contrast: 1.25\n",
      "Filename: EPIC_FL2_D12C5_YSSI-P20-rSD_Blue_70mA_25degrees_X0.000_Y0.000_Z0.000_Exp40000.png, Mean: 35.83, Contrast: 1.26\n",
      "Filename: EPIC_FL2_D12C5_YSSI-P20-rSD_Blue_70mA_25degrees_X0.000_Y0.000_Z0.000_Exp80000.png, Mean: 34.35, Contrast: 1.24\n",
      "Filename: EPIC_FL2_D12C5_YSSI-P20-rSD_Blue_70mA_25degrees_X0.000_Y0.000_Z0.000_Exp160000.png, Mean: 37.88, Contrast: 1.23\n",
      "Filename: EPIC_FL2_D12C5_YSSI-P20-rSD_Blue_70mA_25degrees_X0.000_Y0.000_Z0.000_Exp320000.png, Mean: 37.46, Contrast: 1.20\n",
      "Filename: EPIC_FL2_D12C5_YSSI-P20-rSD_Blue_70mA_25degrees_X0.000_Y0.000_Z0.000_Exp640000.png, Mean: 39.61, Contrast: 1.14\n"
     ]
    }
   ],
   "source": [
    "import os\n",
    "from PIL import Image\n",
    "import numpy as np\n",
    "import re\n",
    "\n",
    "def load_images_from_folder(folder):\n",
    "    images = []\n",
    "    filenames = []\n",
    "    exposures = []\n",
    "    for filename in os.listdir(folder):\n",
    "        # Extract exposure value from filename using regex\n",
    "        match = re.search(r'Exp(\\d+)', filename)\n",
    "        if match:\n",
    "            exposure = int(match.group(1))\n",
    "        else:\n",
    "            exposure = 0  # Default to 0 if no exposure value is found\n",
    "\n",
    "        img = Image.open(os.path.join(folder, filename))\n",
    "        if img is not None:\n",
    "            images.append(img)\n",
    "            filenames.append(filename)\n",
    "            exposures.append(exposure)\n",
    "    return images, filenames, exposures\n",
    "\n",
    "def calculate_mean_and_contrast(images, filenames, exposures):\n",
    "    # Combine lists and sort by exposure\n",
    "    combined = list(zip(images, filenames, exposures))\n",
    "    combined_sorted = sorted(combined, key=lambda x: x[2])\n",
    "\n",
    "    # Calculate and print mean and contrast for sorted images\n",
    "    for img, filename, exposure in combined_sorted:\n",
    "        img_array = np.array(img)\n",
    "        mean = np.mean(img_array)\n",
    "        std = np.std(img_array)\n",
    "        contrast = std / mean if mean != 0 else 0\n",
    "        print(f\"Filename: {filename}, Mean: {mean:.2f}, Contrast: {contrast:.2f}\")\n",
    "\n",
    "# Specify the folder containing images\n",
    "folder_path = '/Users/qingjunwang/Documents/image files/speckle 2 study/check the camera noise'\n",
    "\n",
    "# Load images, filenames, and exposure values\n",
    "images, filenames, exposures = load_images_from_folder(folder_path)\n",
    "\n",
    "# Calculate and print mean and contrast along with filenames, sorted by exposure\n",
    "calculate_mean_and_contrast(images, filenames, exposures)"
   ]
  },
  {
   "cell_type": "code",
   "execution_count": null,
   "id": "d5e7f68d-6459-4cc7-b134-da106f69cd33",
   "metadata": {},
   "outputs": [],
   "source": []
  }
 ],
 "metadata": {
  "kernelspec": {
   "display_name": "Python 3 (ipykernel)",
   "language": "python",
   "name": "python3"
  },
  "language_info": {
   "codemirror_mode": {
    "name": "ipython",
    "version": 3
   },
   "file_extension": ".py",
   "mimetype": "text/x-python",
   "name": "python",
   "nbconvert_exporter": "python",
   "pygments_lexer": "ipython3",
   "version": "3.9.6"
  }
 },
 "nbformat": 4,
 "nbformat_minor": 5
}
